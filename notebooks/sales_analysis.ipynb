{
 "cells": [
  {
   "cell_type": "code",
   "execution_count": 3,
   "metadata": {},
   "outputs": [
    {
     "name": "stdout",
     "output_type": "stream",
     "text": [
      "Data Loaded:\n",
      "    OrderID   Product  Quantity  Price        Date  \n",
      "0        1  Widget A       4.0   20.0  2023-01-01  \n",
      "1        2  Widget B       2.0   15.0  2023-01-01  \n",
      "2        3  Widget A       1.0   20.0  2023-01-02  \n",
      "3        4  Widget C       5.0   30.0  2023-01-03  \n",
      "4        5  Widget B       NaN   15.0  2023-01-04  \n"
     ]
    }
   ],
   "source": [
    "#  Loading the Data\n",
    "import pandas as pd\n",
    "# Load the CSV file\n",
    "data = pd.read_csv(\"../data/sales_data.csv\")\n",
    "print(\"Data Loaded:\\n\", data.head())"
   ]
  },
  {
   "cell_type": "code",
   "execution_count": null,
   "metadata": {},
   "outputs": [
    {
     "name": "stdout",
     "output_type": "stream",
     "text": [
      "Missing Values:\n",
      " OrderID     0\n",
      "Product     0\n",
      "Quantity    0\n",
      "Price       0\n",
      "Date        0\n",
      "dtype: int64\n"
     ]
    }
   ],
   "source": [
    "# Cleaning the Data\n",
    "# 1. Handling Missing Values:\n",
    "print(\"Missing Values:\\n\", data.isnull().sum())\n"
   ]
  },
  {
   "cell_type": "code",
   "execution_count": 6,
   "metadata": {},
   "outputs": [
    {
     "name": "stdout",
     "output_type": "stream",
     "text": [
      "Data after Handling Missing Values:\n",
      "    OrderID   Product  Quantity  Price        Date  \n",
      "0        1  Widget A       4.0   20.0  2023-01-01  \n",
      "1        2  Widget B       2.0   15.0  2023-01-01  \n",
      "2        3  Widget A       1.0   20.0  2023-01-02  \n",
      "3        4  Widget C       5.0   30.0  2023-01-03  \n",
      "4        5  Widget B       0.0   15.0  2023-01-04  \n",
      "5        6  Widget A       3.0   20.0  2023-01-05  \n",
      "7        8  Widget C       2.0   30.0  2023-01-07  \n"
     ]
    },
    {
     "name": "stderr",
     "output_type": "stream",
     "text": [
      "C:\\Users\\ADMIN\\AppData\\Local\\Temp\\ipykernel_14900\\652899096.py:2: FutureWarning: A value is trying to be set on a copy of a DataFrame or Series through chained assignment using an inplace method.\n",
      "The behavior will change in pandas 3.0. This inplace method will never work because the intermediate object on which we are setting values always behaves as a copy.\n",
      "\n",
      "For example, when doing 'df[col].method(value, inplace=True)', try using 'df.method({col: value}, inplace=True)' or df[col] = df[col].method(value) instead, to perform the operation inplace on the original object.\n",
      "\n",
      "\n",
      "  data['Quantity'].fillna(0, inplace=True)\n"
     ]
    }
   ],
   "source": [
    "# Fill missing Quantity with 0 and drop rows with missing Product\n",
    "data['Quantity'].fillna(0, inplace=True)\n",
    "data.dropna(subset=['Product'], inplace=True)\n",
    "print(\"Data after Handling Missing Values:\\n\", data)"
   ]
  },
  {
   "cell_type": "code",
   "execution_count": 10,
   "metadata": {},
   "outputs": [
    {
     "name": "stdout",
     "output_type": "stream",
     "text": [
      "Index(['OrderID', 'Product', 'Quantity', 'Price', 'Date  '], dtype='object')\n"
     ]
    }
   ],
   "source": [
    "print(data.columns)\n"
   ]
  },
  {
   "cell_type": "code",
   "execution_count": 11,
   "metadata": {},
   "outputs": [],
   "source": [
    "data.columns = data.columns.str.strip()  # Removes leading/trailing spaces from column names\n"
   ]
  },
  {
   "cell_type": "code",
   "execution_count": 12,
   "metadata": {},
   "outputs": [],
   "source": [
    "data['Date'] = pd.to_datetime(data['Date'])\n"
   ]
  },
  {
   "cell_type": "code",
   "execution_count": 13,
   "metadata": {},
   "outputs": [
    {
     "name": "stdout",
     "output_type": "stream",
     "text": [
      "   OrderID   Product  Quantity  Price       Date\n",
      "0        1  Widget A       4.0   20.0 2023-01-01\n",
      "1        2  Widget B       2.0   15.0 2023-01-01\n",
      "2        3  Widget A       1.0   20.0 2023-01-02\n",
      "3        4  Widget C       5.0   30.0 2023-01-03\n",
      "4        5  Widget B       0.0   15.0 2023-01-04\n"
     ]
    }
   ],
   "source": [
    "print(data.head())\n"
   ]
  },
  {
   "cell_type": "code",
   "execution_count": 14,
   "metadata": {},
   "outputs": [],
   "source": [
    "data['Date'] = pd.to_datetime(data['Date'], errors='coerce')\n"
   ]
  },
  {
   "cell_type": "code",
   "execution_count": 15,
   "metadata": {},
   "outputs": [
    {
     "name": "stdout",
     "output_type": "stream",
     "text": [
      "Columns in Dataframe:\n",
      " Index(['OrderID', 'Product', 'Quantity', 'Price', 'Date'], dtype='object')\n",
      "Data Types After Conversion:\n",
      " OrderID              int64\n",
      "Product             object\n",
      "Quantity           float64\n",
      "Price              float64\n",
      "Date        datetime64[ns]\n",
      "dtype: object\n",
      "\n",
      "Missing or Invalid Dates:\n",
      " Empty DataFrame\n",
      "Columns: [OrderID, Product, Quantity, Price, Date]\n",
      "Index: []\n"
     ]
    }
   ],
   "source": [
    "import pandas as pd\n",
    "\n",
    "# Assuming you have already loaded your data into the 'data' DataFrame\n",
    "# If you haven't loaded the data yet, use the following code to load the CSV file:\n",
    "# data = pd.read_csv('sales_data.csv')\n",
    "\n",
    "# Step 1: Check column names for any leading or trailing spaces\n",
    "data.columns = data.columns.str.strip()  # Remove leading/trailing spaces from column names\n",
    "\n",
    "# Step 2: Verify the columns in your dataframe\n",
    "print(\"Columns in Dataframe:\\n\", data.columns)\n",
    "\n",
    "# Step 3: Check for the presence of the 'Date' column\n",
    "if 'Date' in data.columns:\n",
    "    # Step 4: Convert 'Date' to datetime format, handle errors by coercing invalid values to NaT\n",
    "    data['Date'] = pd.to_datetime(data['Date'], errors='coerce')\n",
    "\n",
    "    # Step 5: Check the data types after conversion\n",
    "    print(\"Data Types After Conversion:\\n\", data.dtypes)\n",
    "\n",
    "    # Step 6: Check for any missing or invalid dates (NaT)\n",
    "    print(\"\\nMissing or Invalid Dates:\\n\", data[data['Date'].isnull()])\n",
    "else:\n",
    "    print(\"The 'Date' column is missing from the dataset.\")\n"
   ]
  },
  {
   "cell_type": "code",
   "execution_count": 16,
   "metadata": {},
   "outputs": [
    {
     "name": "stdout",
     "output_type": "stream",
     "text": [
      "Data after Removing Duplicates:\n",
      "    OrderID   Product  Quantity  Price       Date\n",
      "0        1  Widget A       4.0   20.0 2023-01-01\n",
      "1        2  Widget B       2.0   15.0 2023-01-01\n",
      "2        3  Widget A       1.0   20.0 2023-01-02\n",
      "3        4  Widget C       5.0   30.0 2023-01-03\n",
      "4        5  Widget B       0.0   15.0 2023-01-04\n",
      "5        6  Widget A       3.0   20.0 2023-01-05\n",
      "7        8  Widget C       2.0   30.0 2023-01-07\n"
     ]
    }
   ],
   "source": [
    "# Remove duplicates\n",
    "data.drop_duplicates(inplace=True)\n",
    "print(\"Data after Removing Duplicates:\\n\", data)"
   ]
  },
  {
   "cell_type": "code",
   "execution_count": 17,
   "metadata": {},
   "outputs": [
    {
     "name": "stdout",
     "output_type": "stream",
     "text": [
      "Data with Total Sales:\n",
      "    OrderID   Product  Quantity  Price       Date  TotalSales\n",
      "0        1  Widget A       4.0   20.0 2023-01-01        80.0\n",
      "1        2  Widget B       2.0   15.0 2023-01-01        30.0\n",
      "2        3  Widget A       1.0   20.0 2023-01-02        20.0\n",
      "3        4  Widget C       5.0   30.0 2023-01-03       150.0\n",
      "4        5  Widget B       0.0   15.0 2023-01-04         0.0\n",
      "5        6  Widget A       3.0   20.0 2023-01-05        60.0\n",
      "7        8  Widget C       2.0   30.0 2023-01-07        60.0\n"
     ]
    }
   ],
   "source": [
    "# Calculate total sales\n",
    "data['TotalSales'] = data['Quantity'] * data['Price']\n",
    "print(\"Data with Total Sales:\\n\", data)"
   ]
  },
  {
   "cell_type": "code",
   "execution_count": 18,
   "metadata": {},
   "outputs": [
    {
     "name": "stdout",
     "output_type": "stream",
     "text": [
      "Sales for Widget A:\n",
      "    OrderID   Product  Quantity  Price       Date  TotalSales\n",
      "0        1  Widget A       4.0   20.0 2023-01-01        80.0\n",
      "2        3  Widget A       1.0   20.0 2023-01-02        20.0\n",
      "5        6  Widget A       3.0   20.0 2023-01-05        60.0\n"
     ]
    }
   ],
   "source": [
    "# Filter sales for Widget A\n",
    "widget_a_sales = data[data['Product'] == 'Widget A']\n",
    "print(\"Sales for Widget A:\\n\", widget_a_sales)"
   ]
  },
  {
   "cell_type": "code",
   "execution_count": 20,
   "metadata": {},
   "outputs": [
    {
     "name": "stdout",
     "output_type": "stream",
     "text": [
      "Sales Summary by Product:\n",
      "     Product  TotalSales\n",
      "0  Widget A       160.0\n",
      "1  Widget B        30.0\n",
      "2  Widget C       210.0\n"
     ]
    }
   ],
   "source": [
    "# Group by Product and sum TotalSales\n",
    "summary = data.groupby('Product')['TotalSales'].sum().reset_index()\n",
    "print(\"Sales Summary by Product:\\n\", summary)"
   ]
  },
  {
   "cell_type": "code",
   "execution_count": 21,
   "metadata": {},
   "outputs": [
    {
     "data": {
      "image/png": "[encoded data removed]",
      "text/plain": [
       "<Figure size 1000x600 with 1 Axes>"
      ]
     },
     "metadata": {},
     "output_type": "display_data"
    }
   ],
   "source": [
    "# VISUALIZATION\n",
    "import matplotlib.pyplot as plt\n",
    "import seaborn as sns\n",
    "# Bar plot for total sales by product\n",
    "plt.figure(figsize=(10, 6))\n",
    "sns.barplot(data=summary, x='Product', y='TotalSales')\n",
    "plt.title('Total Sales by Product')\n",
    "plt.xlabel('Product')\n",
    "plt.ylabel('Total Sales')\n",
    "plt.show()"
   ]
  }
 ],
 "metadata": {
  "kernelspec": {
   "display_name": "Python 3",
   "language": "python",
   "name": "python3"
  },
  "language_info": {
   "codemirror_mode": {
    "name": "ipython",
    "version": 3
   },
   "file_extension": ".py",
   "mimetype": "text/x-python",
   "name": "python",
   "nbconvert_exporter": "python",
   "pygments_lexer": "ipython3",
   "version": "3.13.0"
  }
 },
 "nbformat": 4,
 "nbformat_minor": 2
}
